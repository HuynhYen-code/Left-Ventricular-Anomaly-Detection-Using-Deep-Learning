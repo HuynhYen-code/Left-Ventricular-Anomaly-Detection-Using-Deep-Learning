{
 "cells": [
  {
   "cell_type": "code",
   "execution_count": 1,
   "id": "94fb8f1f",
   "metadata": {},
   "outputs": [],
   "source": [
    "import numpy as np\n",
    "import cv2\n",
    "import pandas as pd\n",
    "from sklearn.model_selection import train_test_split\n",
    "import tensorflow as tf\n",
    "from tensorflow.keras.preprocessing.image import ImageDataGenerator\n",
    "from tensorflow.keras.layers import Dense, Conv2D, MaxPooling2D, Flatten, Dropout, GlobalMaxPooling2D\n",
    "from tensorflow.keras.models import Sequential\n",
    "from tensorflow.keras.optimizers import Adam\n",
    "from tensorflow.keras.callbacks import EarlyStopping, ModelCheckpoint\n",
    "from sklearn.metrics import confusion_matrix, classification_report, roc_auc_score, roc_curve, accuracy_score"
   ]
  },
  {
   "cell_type": "code",
   "execution_count": 2,
   "id": "6f1f230c",
   "metadata": {},
   "outputs": [],
   "source": [
    "df = pd.read_csv('../data/Subset-Chexchonet/prototype.csv')\n",
    "df['cxr_path'] = '../data/Subset-Chexchonet/images/' + df['cxr_filename']\n",
    "train_df, test_df = train_test_split(df, test_size=0.2, stratify=df[\"composite_slvh_dlv\"], random_state=42)\n",
    "train_df, val_df  = train_test_split(train_df, test_size=0.1, stratify=train_df[\"composite_slvh_dlv\"], random_state=42)"
   ]
  },
  {
   "cell_type": "code",
   "execution_count": 3,
   "id": "4b2e3b78",
   "metadata": {},
   "outputs": [],
   "source": [
    "IMAGE_SIZE = (224,224)\n",
    "BATCH_SIZE = 32\n",
    "EPOCH = 30"
   ]
  },
  {
   "cell_type": "markdown",
   "id": "f03f582e",
   "metadata": {},
   "source": [
    "Apply CLAHE "
   ]
  },
  {
   "cell_type": "code",
   "execution_count": 4,
   "id": "efe15a64",
   "metadata": {},
   "outputs": [],
   "source": [
    "def apply_clahe(img):\n",
    "    # Nếu ảnh float (0–1), scale lên 0–255 và ép về uint8\n",
    "    if img.dtype == np.float32 or img.dtype == np.float64:\n",
    "        if img.max() <= 1.0:\n",
    "            img = (img * 255.0).astype(np.uint8)\n",
    "        else:\n",
    "            img = img.astype(np.uint8)\n",
    "    else:\n",
    "        img = img.astype(np.uint8)\n",
    "\n",
    "    # Nếu ảnh RGB (3 kênh) -> chuyển sang grayscale\n",
    "    if len(img.shape) == 3 and img.shape[2] == 3:\n",
    "        img_gray = cv2.cvtColor(img, cv2.COLOR_RGB2GRAY)\n",
    "    else:\n",
    "        img_gray = img\n",
    "\n",
    "    # Áp dụng CLAHE\n",
    "    clahe = cv2.createCLAHE(clipLimit=2.0, tileGridSize=(8,8))\n",
    "    img_clahe = clahe.apply(img_gray)\n",
    "\n",
    "    # Chuyển lại về RGB (3 kênh) để tương thích với model pretrained\n",
    "    img_clahe = cv2.cvtColor(img_clahe, cv2.COLOR_GRAY2RGB)\n",
    "\n",
    "    # Chuẩn hóa về [0,1] float32\n",
    "    return img_clahe.astype(np.float32) / 255.0"
   ]
  },
  {
   "cell_type": "code",
   "execution_count": 5,
   "id": "ce1c0cbc",
   "metadata": {},
   "outputs": [],
   "source": [
    "train_datagen = ImageDataGenerator(\n",
    "    # preprocessing_function=apply_clahe,\n",
    "    rescale=1/255.0,\n",
    "    rotation_range=15,\n",
    "    width_shift_range=0.1,\n",
    "    height_shift_range=0.1,\n",
    "    horizontal_flip=True\n",
    ")\n",
    "\n",
    "val_datagen = ImageDataGenerator(rescale=1/255.0)"
   ]
  },
  {
   "cell_type": "code",
   "execution_count": 6,
   "id": "b3794752",
   "metadata": {},
   "outputs": [
    {
     "name": "stdout",
     "output_type": "stream",
     "text": [
      "Found 1440 validated image filenames.\n",
      "Found 160 validated image filenames.\n",
      "Found 400 validated image filenames.\n"
     ]
    }
   ],
   "source": [
    "train_gen = train_datagen.flow_from_dataframe(\n",
    "    dataframe = train_df,\n",
    "    x_col=\"cxr_path\",\n",
    "    y_col=\"composite_slvh_dlv\",\n",
    "    target_size=IMAGE_SIZE,\n",
    "    batch_size=BATCH_SIZE,\n",
    "    class_mode=\"raw\"\n",
    ")\n",
    "\n",
    "val_gen = val_datagen.flow_from_dataframe(\n",
    "    dataframe=val_df,\n",
    "    x_col=\"cxr_path\",\n",
    "    y_col=\"composite_slvh_dlv\",\n",
    "    target_size=IMAGE_SIZE,\n",
    "    batch_size=BATCH_SIZE,\n",
    "    class_mode=\"raw\"\n",
    ")\n",
    "\n",
    "test_gen = val_datagen.flow_from_dataframe(\n",
    "    dataframe=test_df,\n",
    "    x_col=\"cxr_path\",\n",
    "    y_col=\"composite_slvh_dlv\",\n",
    "    target_size=IMAGE_SIZE,\n",
    "    batch_size=BATCH_SIZE,\n",
    "    class_mode=\"raw\",\n",
    "    shuffle=False\n",
    ")"
   ]
  },
  {
   "cell_type": "code",
   "execution_count": 7,
   "id": "a679f76a",
   "metadata": {},
   "outputs": [],
   "source": [
    "import tensorflow as tf\n",
    "from tensorflow.keras.applications import DenseNet121\n",
    "from tensorflow.keras.models import Model\n",
    "from tensorflow.keras import Input"
   ]
  },
  {
   "cell_type": "code",
   "execution_count": 8,
   "id": "8911b295",
   "metadata": {},
   "outputs": [],
   "source": [
    "inputs = Input(shape=(224, 224, 3))\n",
    "\n",
    "base_model = tf.keras.applications.DenseNet121(\n",
    "    include_top=False, weights=\"imagenet\", input_tensor=inputs\n",
    ")\n",
    "base_model.trainable = False "
   ]
  },
  {
   "cell_type": "code",
   "execution_count": 9,
   "id": "7c31991f",
   "metadata": {},
   "outputs": [],
   "source": [
    "x = GlobalMaxPooling2D()(base_model.output)\n",
    "x = Dense(128, activation=\"relu\")(x)\n",
    "x = Dropout(0.5)(x)\n",
    "outputs = Dense(1, activation=\"sigmoid\")(x)"
   ]
  },
  {
   "cell_type": "code",
   "execution_count": 10,
   "id": "eefe2ac0",
   "metadata": {},
   "outputs": [],
   "source": [
    "model = Model(inputs, outputs, name=\"densenet121_transfer\")"
   ]
  },
  {
   "cell_type": "code",
   "execution_count": 11,
   "id": "1c73b0b7",
   "metadata": {},
   "outputs": [],
   "source": [
    "model.compile(optimizer=Adam(1e-4), loss=\"binary_crossentropy\", metrics=[\"accuracy\", tf.keras.metrics.AUC()])"
   ]
  },
  {
   "cell_type": "code",
   "execution_count": 12,
   "id": "d6c6ae22",
   "metadata": {},
   "outputs": [],
   "source": [
    "earlystop =  EarlyStopping(monitor='val_auc', patience=5, restore_best_weights=True, verbose=1, mode=\"max\")\n",
    "checkpoint = ModelCheckpoint('../best_model.keras', monitor='val_loss', save_best_only=True, verbose=True)"
   ]
  },
  {
   "cell_type": "code",
   "execution_count": 13,
   "id": "58531fb8",
   "metadata": {},
   "outputs": [
    {
     "name": "stdout",
     "output_type": "stream",
     "text": [
      "Class weights: {0: 1.0, 1: 1.0}\n"
     ]
    }
   ],
   "source": [
    "from sklearn.utils.class_weight import compute_class_weight\n",
    "import numpy as np\n",
    "\n",
    "# Tính weight cho train set\n",
    "class_weights = compute_class_weight(\n",
    "    class_weight=\"balanced\",\n",
    "    classes=np.unique(train_df[\"composite_slvh_dlv\"]),\n",
    "    y=train_df[\"composite_slvh_dlv\"]\n",
    ")\n",
    "class_weights = dict(enumerate(class_weights))\n",
    "print(\"Class weights:\", class_weights)\n"
   ]
  },
  {
   "cell_type": "code",
   "execution_count": 14,
   "id": "da0f4e02",
   "metadata": {},
   "outputs": [
    {
     "name": "stderr",
     "output_type": "stream",
     "text": [
      "c:\\Users\\Phi Yen\\AppData\\Local\\Programs\\Python\\Python312\\Lib\\site-packages\\keras\\src\\trainers\\data_adapters\\py_dataset_adapter.py:121: UserWarning: Your `PyDataset` class should call `super().__init__(**kwargs)` in its constructor. `**kwargs` can include `workers`, `use_multiprocessing`, `max_queue_size`. Do not pass these arguments to `fit()`, as they will be ignored.\n",
      "  self._warn_if_super_not_called()\n"
     ]
    },
    {
     "name": "stdout",
     "output_type": "stream",
     "text": [
      "Epoch 1/30\n",
      "\u001b[1m45/45\u001b[0m \u001b[32m━━━━━━━━━━━━━━━━━━━━\u001b[0m\u001b[37m\u001b[0m \u001b[1m0s\u001b[0m 691ms/step - accuracy: 0.4969 - auc: 0.4851 - loss: 1.9197\n",
      "Epoch 1: val_loss improved from inf to 0.84769, saving model to ../best_model.keras\n",
      "\u001b[1m45/45\u001b[0m \u001b[32m━━━━━━━━━━━━━━━━━━━━\u001b[0m\u001b[37m\u001b[0m \u001b[1m45s\u001b[0m 849ms/step - accuracy: 0.4972 - auc: 0.4857 - loss: 1.9145 - val_accuracy: 0.4625 - val_auc: 0.4903 - val_loss: 0.8477\n",
      "Epoch 2/30\n",
      "\u001b[1m45/45\u001b[0m \u001b[32m━━━━━━━━━━━━━━━━━━━━\u001b[0m\u001b[37m\u001b[0m \u001b[1m0s\u001b[0m 670ms/step - accuracy: 0.5016 - auc: 0.5095 - loss: 1.1855\n",
      "Epoch 2: val_loss improved from 0.84769 to 0.77034, saving model to ../best_model.keras\n",
      "\u001b[1m45/45\u001b[0m \u001b[32m━━━━━━━━━━━━━━━━━━━━\u001b[0m\u001b[37m\u001b[0m \u001b[1m34s\u001b[0m 757ms/step - accuracy: 0.5020 - auc: 0.5100 - loss: 1.1832 - val_accuracy: 0.5250 - val_auc: 0.5308 - val_loss: 0.7703\n",
      "Epoch 3/30\n",
      "\u001b[1m45/45\u001b[0m \u001b[32m━━━━━━━━━━━━━━━━━━━━\u001b[0m\u001b[37m\u001b[0m \u001b[1m0s\u001b[0m 650ms/step - accuracy: 0.5539 - auc: 0.5836 - loss: 0.7963\n",
      "Epoch 3: val_loss improved from 0.77034 to 0.73937, saving model to ../best_model.keras\n",
      "\u001b[1m45/45\u001b[0m \u001b[32m━━━━━━━━━━━━━━━━━━━━\u001b[0m\u001b[37m\u001b[0m \u001b[1m33s\u001b[0m 735ms/step - accuracy: 0.5535 - auc: 0.5829 - loss: 0.7967 - val_accuracy: 0.5125 - val_auc: 0.5379 - val_loss: 0.7394\n",
      "Epoch 4/30\n",
      "\u001b[1m45/45\u001b[0m \u001b[32m━━━━━━━━━━━━━━━━━━━━\u001b[0m\u001b[37m\u001b[0m \u001b[1m0s\u001b[0m 657ms/step - accuracy: 0.5046 - auc: 0.5317 - loss: 0.7587\n",
      "Epoch 4: val_loss improved from 0.73937 to 0.70649, saving model to ../best_model.keras\n",
      "\u001b[1m45/45\u001b[0m \u001b[32m━━━━━━━━━━━━━━━━━━━━\u001b[0m\u001b[37m\u001b[0m \u001b[1m33s\u001b[0m 742ms/step - accuracy: 0.5046 - auc: 0.5316 - loss: 0.7586 - val_accuracy: 0.5250 - val_auc: 0.5531 - val_loss: 0.7065\n",
      "Epoch 5/30\n",
      "\u001b[1m45/45\u001b[0m \u001b[32m━━━━━━━━━━━━━━━━━━━━\u001b[0m\u001b[37m\u001b[0m \u001b[1m0s\u001b[0m 659ms/step - accuracy: 0.5630 - auc: 0.5844 - loss: 0.7023\n",
      "Epoch 5: val_loss improved from 0.70649 to 0.68427, saving model to ../best_model.keras\n",
      "\u001b[1m45/45\u001b[0m \u001b[32m━━━━━━━━━━━━━━━━━━━━\u001b[0m\u001b[37m\u001b[0m \u001b[1m34s\u001b[0m 753ms/step - accuracy: 0.5626 - auc: 0.5839 - loss: 0.7026 - val_accuracy: 0.5625 - val_auc: 0.6007 - val_loss: 0.6843\n",
      "Epoch 6/30\n",
      "\u001b[1m45/45\u001b[0m \u001b[32m━━━━━━━━━━━━━━━━━━━━\u001b[0m\u001b[37m\u001b[0m \u001b[1m0s\u001b[0m 718ms/step - accuracy: 0.5487 - auc: 0.5724 - loss: 0.6981\n",
      "Epoch 6: val_loss improved from 0.68427 to 0.68216, saving model to ../best_model.keras\n",
      "\u001b[1m45/45\u001b[0m \u001b[32m━━━━━━━━━━━━━━━━━━━━\u001b[0m\u001b[37m\u001b[0m \u001b[1m36s\u001b[0m 809ms/step - accuracy: 0.5484 - auc: 0.5719 - loss: 0.6984 - val_accuracy: 0.5562 - val_auc: 0.6126 - val_loss: 0.6822\n",
      "Epoch 7/30\n",
      "\u001b[1m45/45\u001b[0m \u001b[32m━━━━━━━━━━━━━━━━━━━━\u001b[0m\u001b[37m\u001b[0m \u001b[1m0s\u001b[0m 698ms/step - accuracy: 0.5386 - auc: 0.5677 - loss: 0.6947\n",
      "Epoch 7: val_loss improved from 0.68216 to 0.67625, saving model to ../best_model.keras\n",
      "\u001b[1m45/45\u001b[0m \u001b[32m━━━━━━━━━━━━━━━━━━━━\u001b[0m\u001b[37m\u001b[0m \u001b[1m36s\u001b[0m 789ms/step - accuracy: 0.5383 - auc: 0.5674 - loss: 0.6948 - val_accuracy: 0.6000 - val_auc: 0.6291 - val_loss: 0.6762\n",
      "Epoch 8/30\n",
      "\u001b[1m45/45\u001b[0m \u001b[32m━━━━━━━━━━━━━━━━━━━━\u001b[0m\u001b[37m\u001b[0m \u001b[1m0s\u001b[0m 707ms/step - accuracy: 0.5570 - auc: 0.5781 - loss: 0.6908\n",
      "Epoch 8: val_loss did not improve from 0.67625\n",
      "\u001b[1m45/45\u001b[0m \u001b[32m━━━━━━━━━━━━━━━━━━━━\u001b[0m\u001b[37m\u001b[0m \u001b[1m35s\u001b[0m 785ms/step - accuracy: 0.5572 - auc: 0.5783 - loss: 0.6906 - val_accuracy: 0.6062 - val_auc: 0.6134 - val_loss: 0.6768\n",
      "Epoch 9/30\n",
      "\u001b[1m45/45\u001b[0m \u001b[32m━━━━━━━━━━━━━━━━━━━━\u001b[0m\u001b[37m\u001b[0m \u001b[1m0s\u001b[0m 691ms/step - accuracy: 0.5354 - auc: 0.5752 - loss: 0.6875\n",
      "Epoch 9: val_loss did not improve from 0.67625\n",
      "\u001b[1m45/45\u001b[0m \u001b[32m━━━━━━━━━━━━━━━━━━━━\u001b[0m\u001b[37m\u001b[0m \u001b[1m35s\u001b[0m 768ms/step - accuracy: 0.5353 - auc: 0.5748 - loss: 0.6877 - val_accuracy: 0.6187 - val_auc: 0.6201 - val_loss: 0.6766\n",
      "Epoch 10/30\n",
      "\u001b[1m45/45\u001b[0m \u001b[32m━━━━━━━━━━━━━━━━━━━━\u001b[0m\u001b[37m\u001b[0m \u001b[1m0s\u001b[0m 694ms/step - accuracy: 0.5554 - auc: 0.5780 - loss: 0.6880\n",
      "Epoch 10: val_loss did not improve from 0.67625\n",
      "\u001b[1m45/45\u001b[0m \u001b[32m━━━━━━━━━━━━━━━━━━━━\u001b[0m\u001b[37m\u001b[0m \u001b[1m35s\u001b[0m 773ms/step - accuracy: 0.5553 - auc: 0.5779 - loss: 0.6880 - val_accuracy: 0.6062 - val_auc: 0.6048 - val_loss: 0.6822\n",
      "Epoch 11/30\n",
      "\u001b[1m45/45\u001b[0m \u001b[32m━━━━━━━━━━━━━━━━━━━━\u001b[0m\u001b[37m\u001b[0m \u001b[1m0s\u001b[0m 689ms/step - accuracy: 0.5589 - auc: 0.5607 - loss: 0.7016\n",
      "Epoch 11: val_loss improved from 0.67625 to 0.67586, saving model to ../best_model.keras\n",
      "\u001b[1m45/45\u001b[0m \u001b[32m━━━━━━━━━━━━━━━━━━━━\u001b[0m\u001b[37m\u001b[0m \u001b[1m35s\u001b[0m 779ms/step - accuracy: 0.5587 - auc: 0.5606 - loss: 0.7016 - val_accuracy: 0.6062 - val_auc: 0.6223 - val_loss: 0.6759\n",
      "Epoch 12/30\n",
      "\u001b[1m45/45\u001b[0m \u001b[32m━━━━━━━━━━━━━━━━━━━━\u001b[0m\u001b[37m\u001b[0m \u001b[1m0s\u001b[0m 691ms/step - accuracy: 0.5545 - auc: 0.5724 - loss: 0.6826\n",
      "Epoch 12: val_loss improved from 0.67586 to 0.67114, saving model to ../best_model.keras\n",
      "\u001b[1m45/45\u001b[0m \u001b[32m━━━━━━━━━━━━━━━━━━━━\u001b[0m\u001b[37m\u001b[0m \u001b[1m35s\u001b[0m 781ms/step - accuracy: 0.5546 - auc: 0.5727 - loss: 0.6827 - val_accuracy: 0.5875 - val_auc: 0.6318 - val_loss: 0.6711\n",
      "Epoch 13/30\n",
      "\u001b[1m45/45\u001b[0m \u001b[32m━━━━━━━━━━━━━━━━━━━━\u001b[0m\u001b[37m\u001b[0m \u001b[1m0s\u001b[0m 702ms/step - accuracy: 0.5258 - auc: 0.5716 - loss: 0.6839\n",
      "Epoch 13: val_loss improved from 0.67114 to 0.66840, saving model to ../best_model.keras\n",
      "\u001b[1m45/45\u001b[0m \u001b[32m━━━━━━━━━━━━━━━━━━━━\u001b[0m\u001b[37m\u001b[0m \u001b[1m36s\u001b[0m 797ms/step - accuracy: 0.5263 - auc: 0.5720 - loss: 0.6838 - val_accuracy: 0.6125 - val_auc: 0.6406 - val_loss: 0.6684\n",
      "Epoch 14/30\n",
      "\u001b[1m45/45\u001b[0m \u001b[32m━━━━━━━━━━━━━━━━━━━━\u001b[0m\u001b[37m\u001b[0m \u001b[1m0s\u001b[0m 700ms/step - accuracy: 0.5655 - auc: 0.5830 - loss: 0.6823\n",
      "Epoch 14: val_loss did not improve from 0.66840\n",
      "\u001b[1m45/45\u001b[0m \u001b[32m━━━━━━━━━━━━━━━━━━━━\u001b[0m\u001b[37m\u001b[0m \u001b[1m35s\u001b[0m 773ms/step - accuracy: 0.5655 - auc: 0.5831 - loss: 0.6823 - val_accuracy: 0.5813 - val_auc: 0.6434 - val_loss: 0.6710\n",
      "Epoch 15/30\n",
      "\u001b[1m45/45\u001b[0m \u001b[32m━━━━━━━━━━━━━━━━━━━━\u001b[0m\u001b[37m\u001b[0m \u001b[1m0s\u001b[0m 657ms/step - accuracy: 0.5512 - auc: 0.5770 - loss: 0.6903\n",
      "Epoch 15: val_loss did not improve from 0.66840\n",
      "\u001b[1m45/45\u001b[0m \u001b[32m━━━━━━━━━━━━━━━━━━━━\u001b[0m\u001b[37m\u001b[0m \u001b[1m33s\u001b[0m 731ms/step - accuracy: 0.5515 - auc: 0.5773 - loss: 0.6901 - val_accuracy: 0.5938 - val_auc: 0.6367 - val_loss: 0.6697\n",
      "Epoch 16/30\n",
      "\u001b[1m45/45\u001b[0m \u001b[32m━━━━━━━━━━━━━━━━━━━━\u001b[0m\u001b[37m\u001b[0m \u001b[1m0s\u001b[0m 682ms/step - accuracy: 0.5794 - auc: 0.6047 - loss: 0.6783\n",
      "Epoch 16: val_loss improved from 0.66840 to 0.66744, saving model to ../best_model.keras\n",
      "\u001b[1m45/45\u001b[0m \u001b[32m━━━━━━━━━━━━━━━━━━━━\u001b[0m\u001b[37m\u001b[0m \u001b[1m35s\u001b[0m 771ms/step - accuracy: 0.5791 - auc: 0.6044 - loss: 0.6783 - val_accuracy: 0.6187 - val_auc: 0.6482 - val_loss: 0.6674\n",
      "Epoch 17/30\n",
      "\u001b[1m45/45\u001b[0m \u001b[32m━━━━━━━━━━━━━━━━━━━━\u001b[0m\u001b[37m\u001b[0m \u001b[1m0s\u001b[0m 684ms/step - accuracy: 0.5644 - auc: 0.5910 - loss: 0.6801\n",
      "Epoch 17: val_loss did not improve from 0.66744\n",
      "\u001b[1m45/45\u001b[0m \u001b[32m━━━━━━━━━━━━━━━━━━━━\u001b[0m\u001b[37m\u001b[0m \u001b[1m34s\u001b[0m 761ms/step - accuracy: 0.5645 - auc: 0.5911 - loss: 0.6801 - val_accuracy: 0.6375 - val_auc: 0.6415 - val_loss: 0.6707\n",
      "Epoch 18/30\n",
      "\u001b[1m45/45\u001b[0m \u001b[32m━━━━━━━━━━━━━━━━━━━━\u001b[0m\u001b[37m\u001b[0m \u001b[1m0s\u001b[0m 686ms/step - accuracy: 0.5687 - auc: 0.6067 - loss: 0.6749\n",
      "Epoch 18: val_loss did not improve from 0.66744\n",
      "\u001b[1m45/45\u001b[0m \u001b[32m━━━━━━━━━━━━━━━━━━━━\u001b[0m\u001b[37m\u001b[0m \u001b[1m35s\u001b[0m 765ms/step - accuracy: 0.5689 - auc: 0.6069 - loss: 0.6748 - val_accuracy: 0.6187 - val_auc: 0.6380 - val_loss: 0.6703\n",
      "Epoch 19/30\n",
      "\u001b[1m45/45\u001b[0m \u001b[32m━━━━━━━━━━━━━━━━━━━━\u001b[0m\u001b[37m\u001b[0m \u001b[1m0s\u001b[0m 692ms/step - accuracy: 0.5823 - auc: 0.6034 - loss: 0.6770\n",
      "Epoch 19: val_loss improved from 0.66744 to 0.66737, saving model to ../best_model.keras\n",
      "\u001b[1m45/45\u001b[0m \u001b[32m━━━━━━━━━━━━━━━━━━━━\u001b[0m\u001b[37m\u001b[0m \u001b[1m36s\u001b[0m 795ms/step - accuracy: 0.5821 - auc: 0.6033 - loss: 0.6771 - val_accuracy: 0.6562 - val_auc: 0.6547 - val_loss: 0.6674\n",
      "Epoch 20/30\n",
      "\u001b[1m45/45\u001b[0m \u001b[32m━━━━━━━━━━━━━━━━━━━━\u001b[0m\u001b[37m\u001b[0m \u001b[1m0s\u001b[0m 696ms/step - accuracy: 0.5830 - auc: 0.6079 - loss: 0.6749\n",
      "Epoch 20: val_loss did not improve from 0.66737\n",
      "\u001b[1m45/45\u001b[0m \u001b[32m━━━━━━━━━━━━━━━━━━━━\u001b[0m\u001b[37m\u001b[0m \u001b[1m35s\u001b[0m 774ms/step - accuracy: 0.5827 - auc: 0.6076 - loss: 0.6750 - val_accuracy: 0.5750 - val_auc: 0.6314 - val_loss: 0.6751\n",
      "Epoch 21/30\n",
      "\u001b[1m45/45\u001b[0m \u001b[32m━━━━━━━━━━━━━━━━━━━━\u001b[0m\u001b[37m\u001b[0m \u001b[1m0s\u001b[0m 698ms/step - accuracy: 0.5630 - auc: 0.5924 - loss: 0.6787\n",
      "Epoch 21: val_loss improved from 0.66737 to 0.66703, saving model to ../best_model.keras\n",
      "\u001b[1m45/45\u001b[0m \u001b[32m━━━━━━━━━━━━━━━━━━━━\u001b[0m\u001b[37m\u001b[0m \u001b[1m36s\u001b[0m 790ms/step - accuracy: 0.5630 - auc: 0.5923 - loss: 0.6788 - val_accuracy: 0.6562 - val_auc: 0.6652 - val_loss: 0.6670\n",
      "Epoch 22/30\n",
      "\u001b[1m45/45\u001b[0m \u001b[32m━━━━━━━━━━━━━━━━━━━━\u001b[0m\u001b[37m\u001b[0m \u001b[1m0s\u001b[0m 693ms/step - accuracy: 0.5574 - auc: 0.6008 - loss: 0.6742\n",
      "Epoch 22: val_loss improved from 0.66703 to 0.66448, saving model to ../best_model.keras\n",
      "\u001b[1m45/45\u001b[0m \u001b[32m━━━━━━━━━━━━━━━━━━━━\u001b[0m\u001b[37m\u001b[0m \u001b[1m35s\u001b[0m 783ms/step - accuracy: 0.5576 - auc: 0.6009 - loss: 0.6741 - val_accuracy: 0.6562 - val_auc: 0.6738 - val_loss: 0.6645\n",
      "Epoch 23/30\n",
      "\u001b[1m45/45\u001b[0m \u001b[32m━━━━━━━━━━━━━━━━━━━━\u001b[0m\u001b[37m\u001b[0m \u001b[1m0s\u001b[0m 694ms/step - accuracy: 0.5715 - auc: 0.5781 - loss: 0.6908\n",
      "Epoch 23: val_loss improved from 0.66448 to 0.65696, saving model to ../best_model.keras\n",
      "\u001b[1m45/45\u001b[0m \u001b[32m━━━━━━━━━━━━━━━━━━━━\u001b[0m\u001b[37m\u001b[0m \u001b[1m36s\u001b[0m 787ms/step - accuracy: 0.5716 - auc: 0.5783 - loss: 0.6907 - val_accuracy: 0.6438 - val_auc: 0.6982 - val_loss: 0.6570\n",
      "Epoch 24/30\n",
      "\u001b[1m45/45\u001b[0m \u001b[32m━━━━━━━━━━━━━━━━━━━━\u001b[0m\u001b[37m\u001b[0m \u001b[1m0s\u001b[0m 717ms/step - accuracy: 0.5935 - auc: 0.6130 - loss: 0.6741\n",
      "Epoch 24: val_loss improved from 0.65696 to 0.65656, saving model to ../best_model.keras\n",
      "\u001b[1m45/45\u001b[0m \u001b[32m━━━━━━━━━━━━━━━━━━━━\u001b[0m\u001b[37m\u001b[0m \u001b[1m37s\u001b[0m 818ms/step - accuracy: 0.5930 - auc: 0.6127 - loss: 0.6742 - val_accuracy: 0.6438 - val_auc: 0.6880 - val_loss: 0.6566\n",
      "Epoch 25/30\n",
      "\u001b[1m45/45\u001b[0m \u001b[32m━━━━━━━━━━━━━━━━━━━━\u001b[0m\u001b[37m\u001b[0m \u001b[1m0s\u001b[0m 709ms/step - accuracy: 0.5564 - auc: 0.5972 - loss: 0.6767\n",
      "Epoch 25: val_loss did not improve from 0.65656\n",
      "\u001b[1m45/45\u001b[0m \u001b[32m━━━━━━━━━━━━━━━━━━━━\u001b[0m\u001b[37m\u001b[0m \u001b[1m36s\u001b[0m 788ms/step - accuracy: 0.5568 - auc: 0.5975 - loss: 0.6766 - val_accuracy: 0.6438 - val_auc: 0.6498 - val_loss: 0.6667\n",
      "Epoch 26/30\n",
      "\u001b[1m45/45\u001b[0m \u001b[32m━━━━━━━━━━━━━━━━━━━━\u001b[0m\u001b[37m\u001b[0m \u001b[1m0s\u001b[0m 720ms/step - accuracy: 0.5657 - auc: 0.5926 - loss: 0.6761\n",
      "Epoch 26: val_loss did not improve from 0.65656\n",
      "\u001b[1m45/45\u001b[0m \u001b[32m━━━━━━━━━━━━━━━━━━━━\u001b[0m\u001b[37m\u001b[0m \u001b[1m36s\u001b[0m 799ms/step - accuracy: 0.5659 - auc: 0.5929 - loss: 0.6760 - val_accuracy: 0.6375 - val_auc: 0.6605 - val_loss: 0.6631\n",
      "Epoch 27/30\n",
      "\u001b[1m45/45\u001b[0m \u001b[32m━━━━━━━━━━━━━━━━━━━━\u001b[0m\u001b[37m\u001b[0m \u001b[1m0s\u001b[0m 714ms/step - accuracy: 0.5366 - auc: 0.5677 - loss: 0.6850\n",
      "Epoch 27: val_loss did not improve from 0.65656\n",
      "\u001b[1m45/45\u001b[0m \u001b[32m━━━━━━━━━━━━━━━━━━━━\u001b[0m\u001b[37m\u001b[0m \u001b[1m36s\u001b[0m 793ms/step - accuracy: 0.5370 - auc: 0.5680 - loss: 0.6850 - val_accuracy: 0.6438 - val_auc: 0.6553 - val_loss: 0.6692\n",
      "Epoch 28/30\n",
      "\u001b[1m45/45\u001b[0m \u001b[32m━━━━━━━━━━━━━━━━━━━━\u001b[0m\u001b[37m\u001b[0m \u001b[1m0s\u001b[0m 699ms/step - accuracy: 0.6031 - auc: 0.6235 - loss: 0.6728\n",
      "Epoch 28: val_loss did not improve from 0.65656\n",
      "\u001b[1m45/45\u001b[0m \u001b[32m━━━━━━━━━━━━━━━━━━━━\u001b[0m\u001b[37m\u001b[0m \u001b[1m35s\u001b[0m 778ms/step - accuracy: 0.6027 - auc: 0.6232 - loss: 0.6729 - val_accuracy: 0.5875 - val_auc: 0.6360 - val_loss: 0.6688\n",
      "Epoch 28: early stopping\n",
      "Restoring model weights from the end of the best epoch: 23.\n"
     ]
    }
   ],
   "source": [
    "history = model.fit(\n",
    "    train_gen,\n",
    "    validation_data=val_gen,\n",
    "    epochs=EPOCH,\n",
    "    callbacks=[earlystop, checkpoint],\n",
    "    verbose=True\n",
    ")"
   ]
  },
  {
   "cell_type": "code",
   "execution_count": 15,
   "id": "ecf0dd30",
   "metadata": {},
   "outputs": [
    {
     "name": "stdout",
     "output_type": "stream",
     "text": [
      "\u001b[1m5/5\u001b[0m \u001b[32m━━━━━━━━━━━━━━━━━━━━\u001b[0m\u001b[37m\u001b[0m \u001b[1m5s\u001b[0m 697ms/step\n"
     ]
    }
   ],
   "source": [
    "y_val_pred = model.predict(val_gen)\n",
    "y_val_true = val_df['composite_slvh_dlv'].values "
   ]
  },
  {
   "cell_type": "code",
   "execution_count": 16,
   "id": "c67517d0",
   "metadata": {},
   "outputs": [
    {
     "name": "stdout",
     "output_type": "stream",
     "text": [
      "\u001b[1m5/5\u001b[0m \u001b[32m━━━━━━━━━━━━━━━━━━━━\u001b[0m\u001b[37m\u001b[0m \u001b[1m4s\u001b[0m 687ms/step\n",
      "Best threshold (ROC): 0.5208354\n"
     ]
    }
   ],
   "source": [
    "y_val_pred = model.predict(val_gen)\n",
    "y_val_true = val_df['composite_slvh_dlv'].values  # hoặc val_gen.labels nếu có\n",
    "\n",
    "#  Tìm threshold tối ưu (theo ROC)\n",
    "fpr, tpr, thresholds = roc_curve(y_val_true, y_val_pred)\n",
    "youden_idx = np.argmax(tpr - fpr)   # maximize sensitivity+specificity\n",
    "best_thresh = thresholds[youden_idx]\n",
    "print(\"Best threshold (ROC):\", best_thresh)"
   ]
  },
  {
   "cell_type": "code",
   "execution_count": 17,
   "id": "4d8d6548",
   "metadata": {},
   "outputs": [
    {
     "name": "stderr",
     "output_type": "stream",
     "text": [
      "c:\\Users\\Phi Yen\\AppData\\Local\\Programs\\Python\\Python312\\Lib\\site-packages\\keras\\src\\trainers\\data_adapters\\py_dataset_adapter.py:121: UserWarning: Your `PyDataset` class should call `super().__init__(**kwargs)` in its constructor. `**kwargs` can include `workers`, `use_multiprocessing`, `max_queue_size`. Do not pass these arguments to `fit()`, as they will be ignored.\n",
      "  self._warn_if_super_not_called()\n"
     ]
    },
    {
     "name": "stdout",
     "output_type": "stream",
     "text": [
      "\u001b[1m13/13\u001b[0m \u001b[32m━━━━━━━━━━━━━━━━━━━━\u001b[0m\u001b[37m\u001b[0m \u001b[1m11s\u001b[0m 879ms/step\n"
     ]
    }
   ],
   "source": [
    "y_pred = model.predict(test_gen).ravel() \n",
    "y_true = test_df['composite_slvh_dlv'].values"
   ]
  },
  {
   "cell_type": "code",
   "execution_count": 18,
   "id": "8ef076eb",
   "metadata": {},
   "outputs": [],
   "source": [
    "import matplotlib.pyplot as plt\n",
    "import seaborn as sns"
   ]
  },
  {
   "cell_type": "code",
   "execution_count": 19,
   "id": "d2bd7ff5",
   "metadata": {},
   "outputs": [
    {
     "name": "stdout",
     "output_type": "stream",
     "text": [
      "Test AUC: 63.95%\n",
      "Test Accuracy: 60.25%\n"
     ]
    },
    {
     "data": {
      "image/png": "[encoded data removed]",
      "text/plain": [
       "<Figure size 640x480 with 2 Axes>"
      ]
     },
     "metadata": {},
     "output_type": "display_data"
    }
   ],
   "source": [
    "# ACC & ROC & AUC\n",
    "auc = roc_auc_score(y_true, y_pred)\n",
    "print(f\"Test AUC: {auc*100:.2f}%\")\n",
    "\n",
    "# Confusion Matrix\n",
    "y_pred_class = (y_pred > best_thresh).astype(int)\n",
    "acc = accuracy_score(y_true, y_pred_class)\n",
    "print(f\"Test Accuracy: {acc*100:.2f}%\")\n",
    "cm = confusion_matrix(y_true, y_pred_class)\n",
    "sns.heatmap(cm, annot=True, fmt=\"d\", cmap=\"Blues\")\n",
    "plt.xlabel(\"Predicted\")\n",
    "plt.ylabel(\"True\")\n",
    "plt.show()\n"
   ]
  },
  {
   "cell_type": "code",
   "execution_count": 20,
   "id": "58d343fb",
   "metadata": {},
   "outputs": [
    {
     "data": {
      "image/png": "[encoded data removed]",
      "text/plain": [
       "<Figure size 640x480 with 1 Axes>"
      ]
     },
     "metadata": {},
     "output_type": "display_data"
    }
   ],
   "source": [
    "import matplotlib.pyplot as plt\n",
    "\n",
    "plt.hist(y_pred, bins=50)\n",
    "plt.xlabel(\"Predicted probability\")\n",
    "plt.ylabel(\"Count\")\n",
    "plt.title(\"Distribution of predicted probabilities\")\n",
    "plt.show()"
   ]
  },
  {
   "cell_type": "markdown",
   "id": "373bfb16",
   "metadata": {},
   "source": [
    "Hướng cải thiện:\n",
    "1. Data\n",
    "- Thay vì chỉ 2000 ảnh, thử tăng dần → 5k, 10k ảnh (nếu máy cho phép).\n",
    "- Data augmentation (rotate nhỏ ±5°, shift, CLAHE/Histogram Equalization).\n",
    "2. Model Training\n",
    "- Dùng pretrained DenseNet121 (ImageNet), freeze backbone 1–2 epoch đầu, sau đó unfreeze dần.\n",
    "- Giảm learning rate backbone (1e-4 → 1e-5), classifier giữ cao hơn.\n",
    "3. Threshold tuning\n",
    "- Sau khi có dự đoán probability, thử ROC curve để chọn threshold tốt nhất thay vì cố định 0.5\n",
    "4. Loss function\n",
    "- Dùng Focal Loss hoặc BCEWithLogitsLoss + class weights để giảm hiện tượng model chỉ thiên về một lớp.\n",
    "5. Validation\n",
    "- Giữ aside JSRT hoặc 10–20% data làm external validation để theo dõi overfitting."
   ]
  },
  {
   "cell_type": "code",
   "execution_count": null,
   "id": "56c487b9",
   "metadata": {},
   "outputs": [],
   "source": []
  }
 ],
 "metadata": {
  "kernelspec": {
   "display_name": "Python 3",
   "language": "python",
   "name": "python3"
  },
  "language_info": {
   "codemirror_mode": {
    "name": "ipython",
    "version": 3
   },
   "file_extension": ".py",
   "mimetype": "text/x-python",
   "name": "python",
   "nbconvert_exporter": "python",
   "pygments_lexer": "ipython3",
   "version": "3.12.6"
  }
 },
 "nbformat": 4,
 "nbformat_minor": 5
}
