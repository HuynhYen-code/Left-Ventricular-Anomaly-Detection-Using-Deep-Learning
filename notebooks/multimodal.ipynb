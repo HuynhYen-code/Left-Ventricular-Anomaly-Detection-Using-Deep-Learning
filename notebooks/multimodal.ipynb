{
 "cells": [
  {
   "cell_type": "code",
   "execution_count": 31,
   "id": "0b9bd4ad",
   "metadata": {},
   "outputs": [],
   "source": [
    "from tensorflow.keras import layers, models, Input\n",
    "from tensorflow.keras.applications import DenseNet121\n",
    "from tensorflow.keras.callbacks import EarlyStopping, ModelCheckpoint\n",
    "from sklearn.metrics import confusion_matrix, classification_report, roc_auc_score, roc_curve, accuracy_score"
   ]
  },
  {
   "cell_type": "code",
   "execution_count": 18,
   "id": "b49de17f",
   "metadata": {},
   "outputs": [],
   "source": [
    "IMAGE_SIZE = 224\n",
    "BATCH_SIZE = 64\n",
    "EPOCH_NUM = 20"
   ]
  },
  {
   "cell_type": "code",
   "execution_count": 19,
   "id": "d46fe61e",
   "metadata": {},
   "outputs": [],
   "source": [
    "# ==== Image branch ==== #\n",
    "image_input = Input(shape=(IMAGE_SIZE, IMAGE_SIZE, 3), name=\"image_input\")\n",
    "base_model = DenseNet121(include_top=False, weights=\"imagenet\", input_tensor=image_input)\n",
    "x = layers.GlobalAveragePooling2D()(base_model.output)"
   ]
  },
  {
   "cell_type": "code",
   "execution_count": 20,
   "id": "bc025ba3",
   "metadata": {},
   "outputs": [],
   "source": [
    "# ==== Clinical branch ==== #\n",
    "clinical_input = Input(shape=(5,), name='clinical_input')\n",
    "y = layers.Dense(32, activation='relu')(clinical_input)\n",
    "y = layers.Dropout(0.3)(y)"
   ]
  },
  {
   "cell_type": "code",
   "execution_count": 21,
   "id": "38d7c287",
   "metadata": {},
   "outputs": [],
   "source": [
    "# ==== Fusion ==== #\n",
    "combined = layers.Concatenate()([x,y])\n",
    "z = layers.Dense(64, activation='relu')(combined)\n",
    "z = layers.Dropout(0.3)(z)\n",
    "output = layers.Dense(1, activation='sigmoid')(z)"
   ]
  },
  {
   "cell_type": "code",
   "execution_count": 22,
   "id": "1b2c5efa",
   "metadata": {},
   "outputs": [],
   "source": [
    "# ==== Model ==== #\n",
    "model = models.Model(inputs=[image_input, clinical_input], outputs=output)\n",
    "model.compile(optimizer=\"adam\", loss=\"binary_crossentropy\", metrics=[\"accuracy\"])"
   ]
  },
  {
   "cell_type": "markdown",
   "id": "154ce0a9",
   "metadata": {},
   "source": [
    "Data Preprocess"
   ]
  },
  {
   "cell_type": "code",
   "execution_count": 1,
   "id": "c89c4b5a",
   "metadata": {},
   "outputs": [],
   "source": [
    "from sklearn.model_selection import train_test_split\n",
    "from PIL import Image\n",
    "import pandas as pd\n",
    "import os\n",
    "import numpy as np\n",
    "import tensorflow as tf\n",
    "from sklearn.preprocessing import LabelEncoder"
   ]
  },
  {
   "cell_type": "code",
   "execution_count": 2,
   "id": "c271ee12",
   "metadata": {},
   "outputs": [],
   "source": [
    "df = pd.read_csv('../data/Subset-Chexchonet/prototype.csv')\n",
    "le = LabelEncoder()\n",
    "df[\"sex\"] = le.fit_transform(df[\"sex\"]).astype(np.float32)\n",
    "df['cxr_path'] = '../data/Subset-Chexchonet/images/' + df['cxr_filename']\n"
   ]
  },
  {
   "cell_type": "code",
   "execution_count": 3,
   "id": "8ff7de42",
   "metadata": {},
   "outputs": [],
   "source": [
    "train_df, test_df = train_test_split(df, test_size=0.2, stratify=df[\"composite_slvh_dlv\"], random_state=42)\n",
    "train_df, val_df  = train_test_split(train_df, test_size=0.1, stratify=train_df[\"composite_slvh_dlv\"], random_state=42)"
   ]
  },
  {
   "cell_type": "code",
   "execution_count": 11,
   "id": "fe8784e3",
   "metadata": {},
   "outputs": [],
   "source": [
    "def read_images(data_df, img_size=(224, 224)):\n",
    "    images = []\n",
    "    for _, row in data_df.iterrows():\n",
    "        image_path = row['cxr_path']\n",
    "        img = Image.open(image_path).convert(\"RGB\")  # đảm bảo 3 kênh\n",
    "        img = img.resize((IMAGE_SIZE, IMAGE_SIZE))\n",
    "        img = np.array(img) / 255.0  # chuẩn hóa về [0,1]\n",
    "        images.append(img)\n",
    "    return np.array(images, dtype=np.float32)\n"
   ]
  },
  {
   "cell_type": "code",
   "execution_count": 12,
   "id": "b2fb7e11",
   "metadata": {},
   "outputs": [],
   "source": [
    "train_images = read_images(train_df)"
   ]
  },
  {
   "cell_type": "code",
   "execution_count": 13,
   "id": "2ffb0017",
   "metadata": {},
   "outputs": [],
   "source": [
    "test_images = read_images(test_df)\n",
    "val_images = read_images(val_df)"
   ]
  },
  {
   "cell_type": "code",
   "execution_count": null,
   "id": "1572af00",
   "metadata": {},
   "outputs": [],
   "source": [
    "clinical_cols = [\"age\", \"sex\", \"ivsd\", \"lvpwd\", \"lvidd\"]\n",
    "train_clinical = train_df[clinical_cols].values.astype(np.float32)\n",
    "val_clinical   = val_df[clinical_cols].values.astype(np.float32)\n",
    "test_clinical  = test_df[clinical_cols].values.astype(np.float32)"
   ]
  },
  {
   "cell_type": "code",
   "execution_count": 15,
   "id": "fa3465df",
   "metadata": {},
   "outputs": [],
   "source": [
    "# Tạo dataset\n",
    "train_ds = tf.data.Dataset.from_tensor_slices(((train_images, train_clinical), train_df[\"composite_slvh_dlv\"].values))\n",
    "val_ds   = tf.data.Dataset.from_tensor_slices(((val_images, val_clinical), val_df[\"composite_slvh_dlv\"].values))\n",
    "test_ds  = tf.data.Dataset.from_tensor_slices(((test_images, test_clinical), test_df[\"composite_slvh_dlv\"].values))\n",
    "\n",
    "# Shuffle + batch\n",
    "train_ds = train_ds.shuffle(512).batch(BATCH_SIZE).prefetch(tf.data.AUTOTUNE)\n",
    "val_ds   = val_ds.batch(BATCH_SIZE).prefetch(tf.data.AUTOTUNE)\n",
    "test_ds  = test_ds.batch(BATCH_SIZE).prefetch(tf.data.AUTOTUNE)\n"
   ]
  },
  {
   "cell_type": "code",
   "execution_count": null,
   "id": "644be117",
   "metadata": {},
   "outputs": [],
   "source": [
    "earlystop =  EarlyStopping(monitor='val_auc', patience=3, restore_best_weights=True, verbose=1, mode=\"max\")\n",
    "checkpoint = ModelCheckpoint('../multimodal_best_model.keras', monitor='val_loss', save_best_only=True, verbose=True)"
   ]
  },
  {
   "cell_type": "code",
   "execution_count": 29,
   "id": "85bd3740",
   "metadata": {},
   "outputs": [
    {
     "name": "stdout",
     "output_type": "stream",
     "text": [
      "Epoch 1/20\n",
      "\u001b[1m23/23\u001b[0m \u001b[32m━━━━━━━━━━━━━━━━━━━━\u001b[0m\u001b[37m\u001b[0m \u001b[1m0s\u001b[0m 6s/step - accuracy: 0.6063 - loss: 0.8644\n",
      "Epoch 1: val_loss improved from inf to 1.26892, saving model to ../best_model.keras\n"
     ]
    },
    {
     "name": "stderr",
     "output_type": "stream",
     "text": [
      "c:\\Users\\Phi Yen\\AppData\\Local\\Programs\\Python\\Python312\\Lib\\site-packages\\keras\\src\\callbacks\\early_stopping.py:153: UserWarning: Early stopping conditioned on metric `val_auc` which is not available. Available metrics are: accuracy,loss,val_accuracy,val_loss\n",
      "  current = self.get_monitor_value(logs)\n"
     ]
    },
    {
     "name": "stdout",
     "output_type": "stream",
     "text": [
      "\u001b[1m23/23\u001b[0m \u001b[32m━━━━━━━━━━━━━━━━━━━━\u001b[0m\u001b[37m\u001b[0m \u001b[1m148s\u001b[0m 6s/step - accuracy: 0.6053 - loss: 0.8638 - val_accuracy: 0.5000 - val_loss: 1.2689\n",
      "Epoch 2/20\n",
      "\u001b[1m23/23\u001b[0m \u001b[32m━━━━━━━━━━━━━━━━━━━━\u001b[0m\u001b[37m\u001b[0m \u001b[1m0s\u001b[0m 6s/step - accuracy: 0.6103 - loss: 0.6721\n",
      "Epoch 2: val_loss improved from 1.26892 to 0.69114, saving model to ../best_model.keras\n",
      "\u001b[1m23/23\u001b[0m \u001b[32m━━━━━━━━━━━━━━━━━━━━\u001b[0m\u001b[37m\u001b[0m \u001b[1m145s\u001b[0m 6s/step - accuracy: 0.6116 - loss: 0.6711 - val_accuracy: 0.5188 - val_loss: 0.6911\n",
      "Epoch 3/20\n",
      "\u001b[1m23/23\u001b[0m \u001b[32m━━━━━━━━━━━━━━━━━━━━\u001b[0m\u001b[37m\u001b[0m \u001b[1m0s\u001b[0m 6s/step - accuracy: 0.7325 - loss: 0.5620\n",
      "Epoch 3: val_loss improved from 0.69114 to 0.68136, saving model to ../best_model.keras\n",
      "\u001b[1m23/23\u001b[0m \u001b[32m━━━━━━━━━━━━━━━━━━━━\u001b[0m\u001b[37m\u001b[0m \u001b[1m146s\u001b[0m 6s/step - accuracy: 0.7318 - loss: 0.5621 - val_accuracy: 0.5562 - val_loss: 0.6814\n",
      "Epoch 4/20\n",
      "\u001b[1m23/23\u001b[0m \u001b[32m━━━━━━━━━━━━━━━━━━━━\u001b[0m\u001b[37m\u001b[0m \u001b[1m0s\u001b[0m 6s/step - accuracy: 0.7557 - loss: 0.4897\n",
      "Epoch 4: val_loss did not improve from 0.68136\n",
      "\u001b[1m23/23\u001b[0m \u001b[32m━━━━━━━━━━━━━━━━━━━━\u001b[0m\u001b[37m\u001b[0m \u001b[1m152s\u001b[0m 7s/step - accuracy: 0.7556 - loss: 0.4906 - val_accuracy: 0.5188 - val_loss: 0.7473\n",
      "Epoch 5/20\n",
      "\u001b[1m23/23\u001b[0m \u001b[32m━━━━━━━━━━━━━━━━━━━━\u001b[0m\u001b[37m\u001b[0m \u001b[1m0s\u001b[0m 6s/step - accuracy: 0.8000 - loss: 0.4332\n",
      "Epoch 5: val_loss did not improve from 0.68136\n",
      "\u001b[1m23/23\u001b[0m \u001b[32m━━━━━━━━━━━━━━━━━━━━\u001b[0m\u001b[37m\u001b[0m \u001b[1m150s\u001b[0m 7s/step - accuracy: 0.7997 - loss: 0.4339 - val_accuracy: 0.5813 - val_loss: 1.0723\n",
      "Epoch 6/20\n",
      "\u001b[1m23/23\u001b[0m \u001b[32m━━━━━━━━━━━━━━━━━━━━\u001b[0m\u001b[37m\u001b[0m \u001b[1m0s\u001b[0m 6s/step - accuracy: 0.8134 - loss: 0.4184\n",
      "Epoch 6: val_loss did not improve from 0.68136\n",
      "\u001b[1m23/23\u001b[0m \u001b[32m━━━━━━━━━━━━━━━━━━━━\u001b[0m\u001b[37m\u001b[0m \u001b[1m143s\u001b[0m 6s/step - accuracy: 0.8133 - loss: 0.4182 - val_accuracy: 0.5063 - val_loss: 2.4800\n",
      "Epoch 7/20\n",
      "\u001b[1m23/23\u001b[0m \u001b[32m━━━━━━━━━━━━━━━━━━━━\u001b[0m\u001b[37m\u001b[0m \u001b[1m0s\u001b[0m 6s/step - accuracy: 0.8180 - loss: 0.4184\n",
      "Epoch 7: val_loss did not improve from 0.68136\n",
      "\u001b[1m23/23\u001b[0m \u001b[32m━━━━━━━━━━━━━━━━━━━━\u001b[0m\u001b[37m\u001b[0m \u001b[1m143s\u001b[0m 6s/step - accuracy: 0.8179 - loss: 0.4186 - val_accuracy: 0.5000 - val_loss: 10.3524\n",
      "Epoch 8/20\n",
      "\u001b[1m23/23\u001b[0m \u001b[32m━━━━━━━━━━━━━━━━━━━━\u001b[0m\u001b[37m\u001b[0m \u001b[1m0s\u001b[0m 6s/step - accuracy: 0.8819 - loss: 0.3094\n",
      "Epoch 8: val_loss did not improve from 0.68136\n",
      "\u001b[1m23/23\u001b[0m \u001b[32m━━━━━━━━━━━━━━━━━━━━\u001b[0m\u001b[37m\u001b[0m \u001b[1m145s\u001b[0m 6s/step - accuracy: 0.8822 - loss: 0.3084 - val_accuracy: 0.5375 - val_loss: 2.0520\n",
      "Epoch 9/20\n",
      "\u001b[1m23/23\u001b[0m \u001b[32m━━━━━━━━━━━━━━━━━━━━\u001b[0m\u001b[37m\u001b[0m \u001b[1m0s\u001b[0m 6s/step - accuracy: 0.9189 - loss: 0.2002\n",
      "Epoch 9: val_loss did not improve from 0.68136\n",
      "\u001b[1m23/23\u001b[0m \u001b[32m━━━━━━━━━━━━━━━━━━━━\u001b[0m\u001b[37m\u001b[0m \u001b[1m146s\u001b[0m 6s/step - accuracy: 0.9177 - loss: 0.2028 - val_accuracy: 0.5000 - val_loss: 16.0964\n",
      "Epoch 10/20\n",
      "\u001b[1m23/23\u001b[0m \u001b[32m━━━━━━━━━━━━━━━━━━━━\u001b[0m\u001b[37m\u001b[0m \u001b[1m0s\u001b[0m 6s/step - accuracy: 0.8922 - loss: 0.2802\n",
      "Epoch 10: val_loss did not improve from 0.68136\n",
      "\u001b[1m23/23\u001b[0m \u001b[32m━━━━━━━━━━━━━━━━━━━━\u001b[0m\u001b[37m\u001b[0m \u001b[1m148s\u001b[0m 6s/step - accuracy: 0.8919 - loss: 0.2800 - val_accuracy: 0.5000 - val_loss: 7.7362\n",
      "Epoch 11/20\n",
      "\u001b[1m23/23\u001b[0m \u001b[32m━━━━━━━━━━━━━━━━━━━━\u001b[0m\u001b[37m\u001b[0m \u001b[1m0s\u001b[0m 6s/step - accuracy: 0.8920 - loss: 0.2603\n",
      "Epoch 11: val_loss did not improve from 0.68136\n",
      "\u001b[1m23/23\u001b[0m \u001b[32m━━━━━━━━━━━━━━━━━━━━\u001b[0m\u001b[37m\u001b[0m \u001b[1m146s\u001b[0m 6s/step - accuracy: 0.8917 - loss: 0.2613 - val_accuracy: 0.5000 - val_loss: 12.5502\n",
      "Epoch 12/20\n",
      "\u001b[1m23/23\u001b[0m \u001b[32m━━━━━━━━━━━━━━━━━━━━\u001b[0m\u001b[37m\u001b[0m \u001b[1m0s\u001b[0m 6s/step - accuracy: 0.9412 - loss: 0.1629\n",
      "Epoch 12: val_loss did not improve from 0.68136\n",
      "\u001b[1m23/23\u001b[0m \u001b[32m━━━━━━━━━━━━━━━━━━━━\u001b[0m\u001b[37m\u001b[0m \u001b[1m146s\u001b[0m 6s/step - accuracy: 0.9416 - loss: 0.1616 - val_accuracy: 0.6062 - val_loss: 3.5868\n",
      "Epoch 13/20\n",
      "\u001b[1m23/23\u001b[0m \u001b[32m━━━━━━━━━━━━━━━━━━━━\u001b[0m\u001b[37m\u001b[0m \u001b[1m0s\u001b[0m 6s/step - accuracy: 0.9493 - loss: 0.1370\n",
      "Epoch 13: val_loss did not improve from 0.68136\n",
      "\u001b[1m23/23\u001b[0m \u001b[32m━━━━━━━━━━━━━━━━━━━━\u001b[0m\u001b[37m\u001b[0m \u001b[1m144s\u001b[0m 6s/step - accuracy: 0.9493 - loss: 0.1372 - val_accuracy: 0.6187 - val_loss: 2.4051\n",
      "Epoch 14/20\n",
      "\u001b[1m23/23\u001b[0m \u001b[32m━━━━━━━━━━━━━━━━━━━━\u001b[0m\u001b[37m\u001b[0m \u001b[1m0s\u001b[0m 6s/step - accuracy: 0.9618 - loss: 0.1147\n",
      "Epoch 14: val_loss did not improve from 0.68136\n",
      "\u001b[1m23/23\u001b[0m \u001b[32m━━━━━━━━━━━━━━━━━━━━\u001b[0m\u001b[37m\u001b[0m \u001b[1m142s\u001b[0m 6s/step - accuracy: 0.9620 - loss: 0.1141 - val_accuracy: 0.5437 - val_loss: 4.2263\n",
      "Epoch 15/20\n",
      "\u001b[1m23/23\u001b[0m \u001b[32m━━━━━━━━━━━━━━━━━━━━\u001b[0m\u001b[37m\u001b[0m \u001b[1m0s\u001b[0m 6s/step - accuracy: 0.9776 - loss: 0.0664\n",
      "Epoch 15: val_loss did not improve from 0.68136\n",
      "\u001b[1m23/23\u001b[0m \u001b[32m━━━━━━━━━━━━━━━━━━━━\u001b[0m\u001b[37m\u001b[0m \u001b[1m142s\u001b[0m 6s/step - accuracy: 0.9773 - loss: 0.0672 - val_accuracy: 0.6500 - val_loss: 2.4380\n",
      "Epoch 16/20\n",
      "\u001b[1m23/23\u001b[0m \u001b[32m━━━━━━━━━━━━━━━━━━━━\u001b[0m\u001b[37m\u001b[0m \u001b[1m0s\u001b[0m 6s/step - accuracy: 0.9577 - loss: 0.1406\n",
      "Epoch 16: val_loss did not improve from 0.68136\n",
      "\u001b[1m23/23\u001b[0m \u001b[32m━━━━━━━━━━━━━━━━━━━━\u001b[0m\u001b[37m\u001b[0m \u001b[1m142s\u001b[0m 6s/step - accuracy: 0.9574 - loss: 0.1405 - val_accuracy: 0.5437 - val_loss: 4.6164\n",
      "Epoch 17/20\n",
      "\u001b[1m23/23\u001b[0m \u001b[32m━━━━━━━━━━━━━━━━━━━━\u001b[0m\u001b[37m\u001b[0m \u001b[1m0s\u001b[0m 6s/step - accuracy: 0.9673 - loss: 0.0960\n",
      "Epoch 17: val_loss did not improve from 0.68136\n",
      "\u001b[1m23/23\u001b[0m \u001b[32m━━━━━━━━━━━━━━━━━━━━\u001b[0m\u001b[37m\u001b[0m \u001b[1m142s\u001b[0m 6s/step - accuracy: 0.9675 - loss: 0.0956 - val_accuracy: 0.5625 - val_loss: 3.3594\n",
      "Epoch 18/20\n",
      "\u001b[1m23/23\u001b[0m \u001b[32m━━━━━━━━━━━━━━━━━━━━\u001b[0m\u001b[37m\u001b[0m \u001b[1m0s\u001b[0m 6s/step - accuracy: 0.9828 - loss: 0.0498\n",
      "Epoch 18: val_loss did not improve from 0.68136\n",
      "\u001b[1m23/23\u001b[0m \u001b[32m━━━━━━━━━━━━━━━━━━━━\u001b[0m\u001b[37m\u001b[0m \u001b[1m152s\u001b[0m 7s/step - accuracy: 0.9828 - loss: 0.0499 - val_accuracy: 0.5562 - val_loss: 3.7838\n",
      "Epoch 19/20\n",
      "\u001b[1m23/23\u001b[0m \u001b[32m━━━━━━━━━━━━━━━━━━━━\u001b[0m\u001b[37m\u001b[0m \u001b[1m0s\u001b[0m 6s/step - accuracy: 0.9703 - loss: 0.0798\n",
      "Epoch 19: val_loss did not improve from 0.68136\n",
      "\u001b[1m23/23\u001b[0m \u001b[32m━━━━━━━━━━━━━━━━━━━━\u001b[0m\u001b[37m\u001b[0m \u001b[1m150s\u001b[0m 7s/step - accuracy: 0.9704 - loss: 0.0794 - val_accuracy: 0.6375 - val_loss: 2.0300\n",
      "Epoch 20/20\n",
      "\u001b[1m23/23\u001b[0m \u001b[32m━━━━━━━━━━━━━━━━━━━━\u001b[0m\u001b[37m\u001b[0m \u001b[1m0s\u001b[0m 6s/step - accuracy: 0.9694 - loss: 0.0883\n",
      "Epoch 20: val_loss did not improve from 0.68136\n",
      "\u001b[1m23/23\u001b[0m \u001b[32m━━━━━━━━━━━━━━━━━━━━\u001b[0m\u001b[37m\u001b[0m \u001b[1m151s\u001b[0m 7s/step - accuracy: 0.9694 - loss: 0.0882 - val_accuracy: 0.6375 - val_loss: 2.5126\n"
     ]
    }
   ],
   "source": [
    "history = model.fit(\n",
    "    train_ds,\n",
    "    validation_data=val_ds,\n",
    "    epochs=EPOCH_NUM,\n",
    "    callbacks=[earlystop, checkpoint],\n",
    "    batch_size=BATCH_SIZE,\n",
    "    verbose=True\n",
    ")\n"
   ]
  },
  {
   "cell_type": "code",
   "execution_count": 46,
   "id": "9b7a7052",
   "metadata": {},
   "outputs": [
    {
     "name": "stdout",
     "output_type": "stream",
     "text": [
      "\u001b[1m3/3\u001b[0m \u001b[32m━━━━━━━━━━━━━━━━━━━━\u001b[0m\u001b[37m\u001b[0m \u001b[1m3s\u001b[0m 975ms/step\n",
      "\u001b[1m3/3\u001b[0m \u001b[32m━━━━━━━━━━━━━━━━━━━━\u001b[0m\u001b[37m\u001b[0m \u001b[1m3s\u001b[0m 945ms/step\n",
      "Best threshold (ROC): 0.99982184\n"
     ]
    }
   ],
   "source": [
    "y_val_pred = model.predict(val_ds)\n",
    "y_val_true = val_df['composite_slvh_dlv'].values\n",
    "y_val_pred = model.predict(val_ds)\n",
    "y_val_true = val_df['composite_slvh_dlv'].values  \n",
    "\n",
    "#  Tìm threshold tối ưu (theo ROC)\n",
    "fpr, tpr, thresholds = roc_curve(y_val_true, y_val_pred)\n",
    "youden_idx = np.argmax(tpr - fpr)   # maximize sensitivity+specificity\n",
    "best_thresh = thresholds[youden_idx]\n",
    "print(\"Best threshold (ROC):\", best_thresh)"
   ]
  },
  {
   "cell_type": "code",
   "execution_count": 34,
   "id": "622a27b2",
   "metadata": {},
   "outputs": [
    {
     "name": "stdout",
     "output_type": "stream",
     "text": [
      "\u001b[1m7/7\u001b[0m \u001b[32m━━━━━━━━━━━━━━━━━━━━\u001b[0m\u001b[37m\u001b[0m \u001b[1m8s\u001b[0m 1s/step\n"
     ]
    }
   ],
   "source": [
    "y_pred = model.predict(test_ds).ravel() \n",
    "y_true = test_df['composite_slvh_dlv'].values"
   ]
  },
  {
   "cell_type": "code",
   "execution_count": 35,
   "id": "2cb4b6ce",
   "metadata": {},
   "outputs": [
    {
     "data": {
      "image/png": "[encoded data removed]",
      "text/plain": [
       "<Figure size 640x480 with 1 Axes>"
      ]
     },
     "metadata": {},
     "output_type": "display_data"
    }
   ],
   "source": [
    "import matplotlib.pyplot as plt\n",
    "\n",
    "plt.hist(y_pred, bins=50)\n",
    "plt.xlabel(\"Predicted probability\")\n",
    "plt.ylabel(\"Count\")\n",
    "plt.title(\"Distribution of predicted probabilities\")\n",
    "plt.show()"
   ]
  },
  {
   "cell_type": "code",
   "execution_count": 36,
   "id": "980b939a",
   "metadata": {},
   "outputs": [],
   "source": [
    "import matplotlib.pyplot as plt\n",
    "import seaborn as sns"
   ]
  },
  {
   "cell_type": "code",
   "execution_count": 47,
   "id": "03898b10",
   "metadata": {},
   "outputs": [
    {
     "name": "stdout",
     "output_type": "stream",
     "text": [
      "Test AUC: 69.16%\n",
      "Test Accuracy: 63.75%\n"
     ]
    },
    {
     "data": {
      "image/png": "[encoded data removed]",
      "text/plain": [
       "<Figure size 640x480 with 2 Axes>"
      ]
     },
     "metadata": {},
     "output_type": "display_data"
    }
   ],
   "source": [
    "# ACC & ROC & AUC\n",
    "auc = roc_auc_score(y_true, y_pred)\n",
    "print(f\"Test AUC: {auc*100:.2f}%\")\n",
    "\n",
    "# Confusion Matrix\n",
    "y_pred_class = (y_pred > best_thresh).astype(int)\n",
    "acc = accuracy_score(y_true, y_pred_class)\n",
    "print(f\"Test Accuracy: {acc*100:.2f}%\")\n",
    "cm = confusion_matrix(y_true, y_pred_class)\n",
    "sns.heatmap(cm, annot=True, fmt=\"d\", cmap=\"Blues\")\n",
    "plt.xlabel(\"Predicted\")\n",
    "plt.ylabel(\"True\")\n",
    "plt.show()"
   ]
  },
  {
   "cell_type": "code",
   "execution_count": null,
   "id": "fb2ac4e9",
   "metadata": {},
   "outputs": [],
   "source": []
  }
 ],
 "metadata": {
  "kernelspec": {
   "display_name": "Python 3",
   "language": "python",
   "name": "python3"
  },
  "language_info": {
   "codemirror_mode": {
    "name": "ipython",
    "version": 3
   },
   "file_extension": ".py",
   "mimetype": "text/x-python",
   "name": "python",
   "nbconvert_exporter": "python",
   "pygments_lexer": "ipython3",
   "version": "3.12.6"
  }
 },
 "nbformat": 4,
 "nbformat_minor": 5
}
